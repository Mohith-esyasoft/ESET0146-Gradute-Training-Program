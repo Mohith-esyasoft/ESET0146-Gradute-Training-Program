{
 "cells": [
  {
   "cell_type": "markdown",
   "id": "07191031",
   "metadata": {},
   "source": [
    "# Machine Learning\n"
   ]
  },
  {
   "cell_type": "markdown",
   "id": "e5a66403",
   "metadata": {},
   "source": [
    "## Linear Regression\n"
   ]
  },
  {
   "cell_type": "code",
   "execution_count": 4,
   "id": "99c7bc96",
   "metadata": {},
   "outputs": [
    {
     "name": "stdout",
     "output_type": "stream",
     "text": [
      "Collecting scikit-learn\n",
      "  Downloading scikit_learn-1.7.2-cp311-cp311-win_amd64.whl.metadata (11 kB)\n",
      "Requirement already satisfied: numpy>=1.22.0 in c:\\users\\hp\\appdata\\local\\packages\\pythonsoftwarefoundation.python.3.11_qbz5n2kfra8p0\\localcache\\local-packages\\python311\\site-packages (from scikit-learn) (2.3.2)\n",
      "Collecting scipy>=1.8.0 (from scikit-learn)\n",
      "  Downloading scipy-1.16.1-cp311-cp311-win_amd64.whl.metadata (60 kB)\n",
      "     ---------------------------------------- 0.0/60.8 kB ? eta -:--:--\n",
      "     ------ --------------------------------- 10.2/60.8 kB ? eta -:--:--\n",
      "     ---------------------------------------- 60.8/60.8 kB 1.1 MB/s eta 0:00:00\n",
      "Collecting joblib>=1.2.0 (from scikit-learn)\n",
      "  Downloading joblib-1.5.2-py3-none-any.whl.metadata (5.6 kB)\n",
      "Collecting threadpoolctl>=3.1.0 (from scikit-learn)\n",
      "  Downloading threadpoolctl-3.6.0-py3-none-any.whl.metadata (13 kB)\n",
      "Downloading scikit_learn-1.7.2-cp311-cp311-win_amd64.whl (8.9 MB)\n",
      "   ---------------------------------------- 0.0/8.9 MB ? eta -:--:--\n",
      "    --------------------------------------- 0.2/8.9 MB 4.6 MB/s eta 0:00:02\n",
      "   -- ------------------------------------- 0.5/8.9 MB 9.8 MB/s eta 0:00:01\n",
      "   ---- ----------------------------------- 1.0/8.9 MB 11.1 MB/s eta 0:00:01\n",
      "   ---------- ----------------------------- 2.3/8.9 MB 18.4 MB/s eta 0:00:01\n",
      "   ---------------- ----------------------- 3.7/8.9 MB 21.4 MB/s eta 0:00:01\n",
      "   ------------------ --------------------- 4.0/8.9 MB 23.5 MB/s eta 0:00:01\n",
      "   --------------------------- ------------ 6.1/8.9 MB 24.5 MB/s eta 0:00:01\n",
      "   ------------------------------ --------- 6.9/8.9 MB 24.5 MB/s eta 0:00:01\n",
      "   ------------------------------------ --- 8.0/8.9 MB 25.7 MB/s eta 0:00:01\n",
      "   -------------------------------------- - 8.7/8.9 MB 24.1 MB/s eta 0:00:01\n",
      "   ---------------------------------------  8.9/8.9 MB 22.7 MB/s eta 0:00:01\n",
      "   ---------------------------------------- 8.9/8.9 MB 21.1 MB/s eta 0:00:00\n",
      "Downloading joblib-1.5.2-py3-none-any.whl (308 kB)\n",
      "   ---------------------------------------- 0.0/308.4 kB ? eta -:--:--\n",
      "   --------------------------------------- 308.4/308.4 kB 19.9 MB/s eta 0:00:00\n",
      "Downloading scipy-1.16.1-cp311-cp311-win_amd64.whl (38.6 MB)\n",
      "   ---------------------------------------- 0.0/38.6 MB ? eta -:--:--\n",
      "   - -------------------------------------- 1.9/38.6 MB 60.4 MB/s eta 0:00:01\n",
      "   -- ------------------------------------- 2.7/38.6 MB 33.9 MB/s eta 0:00:02\n",
      "   --- ------------------------------------ 3.6/38.6 MB 32.9 MB/s eta 0:00:02\n",
      "   ---- ----------------------------------- 4.6/38.6 MB 29.3 MB/s eta 0:00:02\n",
      "   ------ --------------------------------- 6.4/38.6 MB 34.3 MB/s eta 0:00:01\n",
      "   -------- ------------------------------- 8.3/38.6 MB 35.6 MB/s eta 0:00:01\n",
      "   --------- ------------------------------ 8.8/38.6 MB 35.3 MB/s eta 0:00:01\n",
      "   --------- ------------------------------ 8.8/38.6 MB 35.3 MB/s eta 0:00:01\n",
      "   ---------- ----------------------------- 10.0/38.6 MB 30.4 MB/s eta 0:00:01\n",
      "   ---------- ----------------------------- 10.0/38.6 MB 30.4 MB/s eta 0:00:01\n",
      "   ------------- -------------------------- 13.0/38.6 MB 31.2 MB/s eta 0:00:01\n",
      "   ------------- -------------------------- 13.2/38.6 MB 27.3 MB/s eta 0:00:01\n",
      "   -------------- ------------------------- 13.7/38.6 MB 26.2 MB/s eta 0:00:01\n",
      "   -------------- ------------------------- 14.5/38.6 MB 27.3 MB/s eta 0:00:01\n",
      "   ---------------- ----------------------- 15.7/38.6 MB 25.1 MB/s eta 0:00:01\n",
      "   ----------------- ---------------------- 16.6/38.6 MB 23.4 MB/s eta 0:00:01\n",
      "   ----------------- ---------------------- 17.3/38.6 MB 22.6 MB/s eta 0:00:01\n",
      "   ------------------ --------------------- 17.9/38.6 MB 21.8 MB/s eta 0:00:01\n",
      "   ------------------- -------------------- 18.4/38.6 MB 21.1 MB/s eta 0:00:01\n",
      "   -------------------- ------------------- 19.5/38.6 MB 23.4 MB/s eta 0:00:01\n",
      "   -------------------- ------------------- 20.3/38.6 MB 26.2 MB/s eta 0:00:01\n",
      "   --------------------- ------------------ 21.2/38.6 MB 23.4 MB/s eta 0:00:01\n",
      "   ---------------------- ----------------- 22.0/38.6 MB 21.8 MB/s eta 0:00:01\n",
      "   ------------------------ --------------- 23.2/38.6 MB 21.1 MB/s eta 0:00:01\n",
      "   ------------------------- -------------- 24.4/38.6 MB 23.4 MB/s eta 0:00:01\n",
      "   -------------------------- ------------- 25.1/38.6 MB 23.4 MB/s eta 0:00:01\n",
      "   --------------------------- ------------ 26.2/38.6 MB 23.4 MB/s eta 0:00:01\n",
      "   ---------------------------- ----------- 27.3/38.6 MB 25.2 MB/s eta 0:00:01\n",
      "   ----------------------------- ---------- 28.3/38.6 MB 26.2 MB/s eta 0:00:01\n",
      "   ------------------------------ --------- 29.4/38.6 MB 26.2 MB/s eta 0:00:01\n",
      "   ------------------------------- -------- 30.7/38.6 MB 27.3 MB/s eta 0:00:01\n",
      "   -------------------------------- ------- 31.8/38.6 MB 28.5 MB/s eta 0:00:01\n",
      "   ---------------------------------- ----- 33.6/38.6 MB 29.7 MB/s eta 0:00:01\n",
      "   ----------------------------------- ---- 34.3/38.6 MB 31.2 MB/s eta 0:00:01\n",
      "   ------------------------------------ --- 35.7/38.6 MB 31.2 MB/s eta 0:00:01\n",
      "   ------------------------------------- -- 36.1/38.6 MB 29.7 MB/s eta 0:00:01\n",
      "   -------------------------------------- - 36.8/38.6 MB 28.4 MB/s eta 0:00:01\n",
      "   ---------------------------------------  37.7/38.6 MB 29.8 MB/s eta 0:00:01\n",
      "   ---------------------------------------  38.6/38.6 MB 27.3 MB/s eta 0:00:01\n",
      "   ---------------------------------------  38.6/38.6 MB 27.3 MB/s eta 0:00:01\n",
      "   ---------------------------------------- 38.6/38.6 MB 23.4 MB/s eta 0:00:00\n",
      "Downloading threadpoolctl-3.6.0-py3-none-any.whl (18 kB)\n",
      "Installing collected packages: threadpoolctl, scipy, joblib, scikit-learn\n",
      "Successfully installed joblib-1.5.2 scikit-learn-1.7.2 scipy-1.16.1 threadpoolctl-3.6.0\n",
      "Note: you may need to restart the kernel to use updated packages.\n"
     ]
    },
    {
     "name": "stderr",
     "output_type": "stream",
     "text": [
      "\n",
      "[notice] A new release of pip is available: 24.0 -> 25.2\n",
      "[notice] To update, run: C:\\Users\\HP\\AppData\\Local\\Microsoft\\WindowsApps\\PythonSoftwareFoundation.Python.3.11_qbz5n2kfra8p0\\python.exe -m pip install --upgrade pip\n"
     ]
    }
   ],
   "source": [
    "pip install scikit-learn"
   ]
  },
  {
   "cell_type": "code",
   "execution_count": 6,
   "id": "7448ba9c",
   "metadata": {},
   "outputs": [],
   "source": [
    "import sklearn"
   ]
  },
  {
   "cell_type": "code",
   "execution_count": null,
   "id": "8b9b1e55",
   "metadata": {},
   "outputs": [],
   "source": [
    "from sklearn.model_selection import train_test_split\n",
    "from sklearn.linear_model import LinearRegression"
   ]
  }
 ],
 "metadata": {
  "kernelspec": {
   "display_name": "Python 3",
   "language": "python",
   "name": "python3"
  },
  "language_info": {
   "codemirror_mode": {
    "name": "ipython",
    "version": 3
   },
   "file_extension": ".py",
   "mimetype": "text/x-python",
   "name": "python",
   "nbconvert_exporter": "python",
   "pygments_lexer": "ipython3",
   "version": "3.11.9"
  }
 },
 "nbformat": 4,
 "nbformat_minor": 5
}
